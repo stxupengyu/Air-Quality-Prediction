{
 "cells": [
  {
   "cell_type": "code",
   "execution_count": 174,
   "id": "62ea47eb",
   "metadata": {},
   "outputs": [
    {
     "data": {
      "text/html": [
       "<div>\n",
       "<style scoped>\n",
       "    .dataframe tbody tr th:only-of-type {\n",
       "        vertical-align: middle;\n",
       "    }\n",
       "\n",
       "    .dataframe tbody tr th {\n",
       "        vertical-align: top;\n",
       "    }\n",
       "\n",
       "    .dataframe thead th {\n",
       "        text-align: right;\n",
       "    }\n",
       "</style>\n",
       "<table border=\"1\" class=\"dataframe\">\n",
       "  <thead>\n",
       "    <tr style=\"text-align: right;\">\n",
       "      <th></th>\n",
       "      <th>监测日期</th>\n",
       "      <th>地点</th>\n",
       "      <th>SO2监测浓度(μg/m³)</th>\n",
       "      <th>NO2监测浓度(μg/m³)</th>\n",
       "      <th>PM10监测浓度(μg/m³)</th>\n",
       "      <th>PM2.5监测浓度(μg/m³)</th>\n",
       "      <th>O3最大八小时滑动平均监测浓度(μg/m³)</th>\n",
       "      <th>CO监测浓度(mg/m³)</th>\n",
       "    </tr>\n",
       "  </thead>\n",
       "  <tbody>\n",
       "    <tr>\n",
       "      <th>0</th>\n",
       "      <td>2019-04-16</td>\n",
       "      <td>监测点A</td>\n",
       "      <td>5.0</td>\n",
       "      <td>56.0</td>\n",
       "      <td>36.0</td>\n",
       "      <td>31.0</td>\n",
       "      <td>103.0</td>\n",
       "      <td>0.8</td>\n",
       "    </tr>\n",
       "    <tr>\n",
       "      <th>1</th>\n",
       "      <td>2019-04-17</td>\n",
       "      <td>监测点A</td>\n",
       "      <td>9.0</td>\n",
       "      <td>63.0</td>\n",
       "      <td>67.0</td>\n",
       "      <td>53.0</td>\n",
       "      <td>206.0</td>\n",
       "      <td>1.1</td>\n",
       "    </tr>\n",
       "    <tr>\n",
       "      <th>2</th>\n",
       "      <td>2019-04-18</td>\n",
       "      <td>监测点A</td>\n",
       "      <td>6.0</td>\n",
       "      <td>37.0</td>\n",
       "      <td>31.0</td>\n",
       "      <td>25.0</td>\n",
       "      <td>83.0</td>\n",
       "      <td>0.6</td>\n",
       "    </tr>\n",
       "  </tbody>\n",
       "</table>\n",
       "</div>"
      ],
      "text/plain": [
       "        监测日期    地点  SO2监测浓度(μg/m³)  NO2监测浓度(μg/m³)  PM10监测浓度(μg/m³)  \\\n",
       "0 2019-04-16  监测点A             5.0            56.0             36.0   \n",
       "1 2019-04-17  监测点A             9.0            63.0             67.0   \n",
       "2 2019-04-18  监测点A             6.0            37.0             31.0   \n",
       "\n",
       "   PM2.5监测浓度(μg/m³)  O3最大八小时滑动平均监测浓度(μg/m³)  CO监测浓度(mg/m³)  \n",
       "0              31.0                   103.0            0.8  \n",
       "1              53.0                   206.0            1.1  \n",
       "2              25.0                    83.0            0.6  "
      ]
     },
     "execution_count": 174,
     "metadata": {},
     "output_type": "execute_result"
    }
   ],
   "source": [
    "import numpy as np\n",
    "import matplotlib.pyplot as plt\n",
    "import pandas as pd\n",
    "plt.style.use('seaborn')\n",
    "\n",
    "excel_name = '附件1 监测点A空气质量预报基础数据.xlsx'#附件1 监测点A空气质量预报基础数据.xlsx\n",
    "na_values = '—'\n",
    "\n",
    "def cp(value, value_name):\n",
    "    print('==============%s=============='%value_name)\n",
    "    print(value)    \n",
    "    print('==============%s=============='%value_name)\n",
    "\n",
    "data3 = pd.read_excel(excel_name, sheet_name=2,na_values=na_values)\n",
    "data3.head(3)"
   ]
  },
  {
   "cell_type": "code",
   "execution_count": 175,
   "id": "a2a7e079",
   "metadata": {},
   "outputs": [
    {
     "name": "stdout",
     "output_type": "stream",
     "text": [
      "应有天数 819\n",
      "实际天数 819\n"
     ]
    },
    {
     "data": {
      "text/html": [
       "<div>\n",
       "<style scoped>\n",
       "    .dataframe tbody tr th:only-of-type {\n",
       "        vertical-align: middle;\n",
       "    }\n",
       "\n",
       "    .dataframe tbody tr th {\n",
       "        vertical-align: top;\n",
       "    }\n",
       "\n",
       "    .dataframe thead th {\n",
       "        text-align: right;\n",
       "    }\n",
       "</style>\n",
       "<table border=\"1\" class=\"dataframe\">\n",
       "  <thead>\n",
       "    <tr style=\"text-align: right;\">\n",
       "      <th></th>\n",
       "      <th>监测日期</th>\n",
       "      <th>地点</th>\n",
       "      <th>SO2监测浓度(μg/m³)</th>\n",
       "      <th>NO2监测浓度(μg/m³)</th>\n",
       "      <th>PM10监测浓度(μg/m³)</th>\n",
       "      <th>PM2.5监测浓度(μg/m³)</th>\n",
       "      <th>O3最大八小时滑动平均监测浓度(μg/m³)</th>\n",
       "      <th>CO监测浓度(mg/m³)</th>\n",
       "    </tr>\n",
       "  </thead>\n",
       "  <tbody>\n",
       "    <tr>\n",
       "      <th>0</th>\n",
       "      <td>2019-04-16</td>\n",
       "      <td>监测点A</td>\n",
       "      <td>5.0</td>\n",
       "      <td>56.0</td>\n",
       "      <td>36.0</td>\n",
       "      <td>31.0</td>\n",
       "      <td>103.0</td>\n",
       "      <td>0.8</td>\n",
       "    </tr>\n",
       "    <tr>\n",
       "      <th>1</th>\n",
       "      <td>2019-04-17</td>\n",
       "      <td>监测点A</td>\n",
       "      <td>9.0</td>\n",
       "      <td>63.0</td>\n",
       "      <td>67.0</td>\n",
       "      <td>53.0</td>\n",
       "      <td>206.0</td>\n",
       "      <td>1.1</td>\n",
       "    </tr>\n",
       "    <tr>\n",
       "      <th>2</th>\n",
       "      <td>2019-04-18</td>\n",
       "      <td>监测点A</td>\n",
       "      <td>6.0</td>\n",
       "      <td>37.0</td>\n",
       "      <td>31.0</td>\n",
       "      <td>25.0</td>\n",
       "      <td>83.0</td>\n",
       "      <td>0.6</td>\n",
       "    </tr>\n",
       "    <tr>\n",
       "      <th>3</th>\n",
       "      <td>2019-04-19</td>\n",
       "      <td>监测点A</td>\n",
       "      <td>5.0</td>\n",
       "      <td>50.0</td>\n",
       "      <td>23.0</td>\n",
       "      <td>15.0</td>\n",
       "      <td>71.0</td>\n",
       "      <td>0.6</td>\n",
       "    </tr>\n",
       "    <tr>\n",
       "      <th>4</th>\n",
       "      <td>2019-04-20</td>\n",
       "      <td>监测点A</td>\n",
       "      <td>6.0</td>\n",
       "      <td>68.0</td>\n",
       "      <td>33.0</td>\n",
       "      <td>26.0</td>\n",
       "      <td>32.0</td>\n",
       "      <td>0.7</td>\n",
       "    </tr>\n",
       "    <tr>\n",
       "      <th>...</th>\n",
       "      <td>...</td>\n",
       "      <td>...</td>\n",
       "      <td>...</td>\n",
       "      <td>...</td>\n",
       "      <td>...</td>\n",
       "      <td>...</td>\n",
       "      <td>...</td>\n",
       "      <td>...</td>\n",
       "    </tr>\n",
       "    <tr>\n",
       "      <th>814</th>\n",
       "      <td>2021-07-08</td>\n",
       "      <td>监测点A</td>\n",
       "      <td>5.0</td>\n",
       "      <td>15.0</td>\n",
       "      <td>18.0</td>\n",
       "      <td>3.0</td>\n",
       "      <td>64.0</td>\n",
       "      <td>0.4</td>\n",
       "    </tr>\n",
       "    <tr>\n",
       "      <th>815</th>\n",
       "      <td>2021-07-09</td>\n",
       "      <td>监测点A</td>\n",
       "      <td>7.0</td>\n",
       "      <td>17.0</td>\n",
       "      <td>28.0</td>\n",
       "      <td>12.0</td>\n",
       "      <td>146.0</td>\n",
       "      <td>0.4</td>\n",
       "    </tr>\n",
       "    <tr>\n",
       "      <th>816</th>\n",
       "      <td>2021-07-10</td>\n",
       "      <td>监测点A</td>\n",
       "      <td>6.0</td>\n",
       "      <td>13.0</td>\n",
       "      <td>20.0</td>\n",
       "      <td>5.0</td>\n",
       "      <td>81.0</td>\n",
       "      <td>0.4</td>\n",
       "    </tr>\n",
       "    <tr>\n",
       "      <th>817</th>\n",
       "      <td>2021-07-11</td>\n",
       "      <td>监测点A</td>\n",
       "      <td>6.0</td>\n",
       "      <td>11.0</td>\n",
       "      <td>20.0</td>\n",
       "      <td>3.0</td>\n",
       "      <td>63.0</td>\n",
       "      <td>0.3</td>\n",
       "    </tr>\n",
       "    <tr>\n",
       "      <th>818</th>\n",
       "      <td>2021-07-12</td>\n",
       "      <td>监测点A</td>\n",
       "      <td>6.0</td>\n",
       "      <td>11.0</td>\n",
       "      <td>17.0</td>\n",
       "      <td>5.0</td>\n",
       "      <td>81.0</td>\n",
       "      <td>0.4</td>\n",
       "    </tr>\n",
       "  </tbody>\n",
       "</table>\n",
       "<p>819 rows × 8 columns</p>\n",
       "</div>"
      ],
      "text/plain": [
       "          监测日期    地点  SO2监测浓度(μg/m³)  NO2监测浓度(μg/m³)  PM10监测浓度(μg/m³)  \\\n",
       "0   2019-04-16  监测点A             5.0            56.0             36.0   \n",
       "1   2019-04-17  监测点A             9.0            63.0             67.0   \n",
       "2   2019-04-18  监测点A             6.0            37.0             31.0   \n",
       "3   2019-04-19  监测点A             5.0            50.0             23.0   \n",
       "4   2019-04-20  监测点A             6.0            68.0             33.0   \n",
       "..         ...   ...             ...             ...              ...   \n",
       "814 2021-07-08  监测点A             5.0            15.0             18.0   \n",
       "815 2021-07-09  监测点A             7.0            17.0             28.0   \n",
       "816 2021-07-10  监测点A             6.0            13.0             20.0   \n",
       "817 2021-07-11  监测点A             6.0            11.0             20.0   \n",
       "818 2021-07-12  监测点A             6.0            11.0             17.0   \n",
       "\n",
       "     PM2.5监测浓度(μg/m³)  O3最大八小时滑动平均监测浓度(μg/m³)  CO监测浓度(mg/m³)  \n",
       "0                31.0                   103.0            0.8  \n",
       "1                53.0                   206.0            1.1  \n",
       "2                25.0                    83.0            0.6  \n",
       "3                15.0                    71.0            0.6  \n",
       "4                26.0                    32.0            0.7  \n",
       "..                ...                     ...            ...  \n",
       "814               3.0                    64.0            0.4  \n",
       "815              12.0                   146.0            0.4  \n",
       "816               5.0                    81.0            0.4  \n",
       "817               3.0                    63.0            0.3  \n",
       "818               5.0                    81.0            0.4  \n",
       "\n",
       "[819 rows x 8 columns]"
      ]
     },
     "execution_count": 175,
     "metadata": {},
     "output_type": "execute_result"
    }
   ],
   "source": [
    "start_time = '2019-04-16 00:00:00'\n",
    "end_time = '2021-07-12 00:00:00'\n",
    "time_list = pd.date_range(start_time, end_time, freq='D')\n",
    "data3 = data3.iloc[:-3,:]\n",
    "print('应有天数',len(time_list))\n",
    "print('实际天数', len(data3))\n",
    "data3"
   ]
  },
  {
   "cell_type": "markdown",
   "id": "72aca2d5",
   "metadata": {},
   "source": [
    "# 预处理"
   ]
  },
  {
   "cell_type": "code",
   "execution_count": 176,
   "id": "71da12db",
   "metadata": {},
   "outputs": [
    {
     "data": {
      "text/plain": [
       "监测日期                       0\n",
       "地点                         0\n",
       "SO2监测浓度(μg/m³)             4\n",
       "NO2监测浓度(μg/m³)             6\n",
       "PM10监测浓度(μg/m³)           11\n",
       "PM2.5监测浓度(μg/m³)           5\n",
       "O3最大八小时滑动平均监测浓度(μg/m³)     7\n",
       "CO监测浓度(mg/m³)              6\n",
       "dtype: int64"
      ]
     },
     "execution_count": 176,
     "metadata": {},
     "output_type": "execute_result"
    }
   ],
   "source": [
    "data3.isnull().sum()"
   ]
  },
  {
   "cell_type": "code",
   "execution_count": 177,
   "id": "5b339def",
   "metadata": {},
   "outputs": [
    {
     "data": {
      "text/plain": [
       "SO2监测浓度(μg/m³)            0\n",
       "NO2监测浓度(μg/m³)            0\n",
       "PM10监测浓度(μg/m³)           0\n",
       "PM2.5监测浓度(μg/m³)          0\n",
       "O3最大八小时滑动平均监测浓度(μg/m³)    0\n",
       "CO监测浓度(mg/m³)             0\n",
       "dtype: int64"
      ]
     },
     "execution_count": 177,
     "metadata": {},
     "output_type": "execute_result"
    }
   ],
   "source": [
    "data_temp = data3.iloc[:,2:].interpolate()\n",
    "data_temp.isnull().sum()"
   ]
  },
  {
   "cell_type": "code",
   "execution_count": 178,
   "id": "81910464",
   "metadata": {},
   "outputs": [
    {
     "data": {
      "text/html": [
       "<div>\n",
       "<style scoped>\n",
       "    .dataframe tbody tr th:only-of-type {\n",
       "        vertical-align: middle;\n",
       "    }\n",
       "\n",
       "    .dataframe tbody tr th {\n",
       "        vertical-align: top;\n",
       "    }\n",
       "\n",
       "    .dataframe thead th {\n",
       "        text-align: right;\n",
       "    }\n",
       "</style>\n",
       "<table border=\"1\" class=\"dataframe\">\n",
       "  <thead>\n",
       "    <tr style=\"text-align: right;\">\n",
       "      <th></th>\n",
       "      <th>SO2监测浓度(μg/m³)</th>\n",
       "      <th>NO2监测浓度(μg/m³)</th>\n",
       "      <th>PM10监测浓度(μg/m³)</th>\n",
       "      <th>PM2.5监测浓度(μg/m³)</th>\n",
       "      <th>O3最大八小时滑动平均监测浓度(μg/m³)</th>\n",
       "      <th>CO监测浓度(mg/m³)</th>\n",
       "    </tr>\n",
       "  </thead>\n",
       "  <tbody>\n",
       "    <tr>\n",
       "      <th>count</th>\n",
       "      <td>819.000000</td>\n",
       "      <td>819.000000</td>\n",
       "      <td>819.000000</td>\n",
       "      <td>819.000000</td>\n",
       "      <td>819.000000</td>\n",
       "      <td>819.000000</td>\n",
       "    </tr>\n",
       "    <tr>\n",
       "      <th>mean</th>\n",
       "      <td>7.008547</td>\n",
       "      <td>32.875458</td>\n",
       "      <td>44.073871</td>\n",
       "      <td>24.219170</td>\n",
       "      <td>98.542125</td>\n",
       "      <td>0.715568</td>\n",
       "    </tr>\n",
       "    <tr>\n",
       "      <th>std</th>\n",
       "      <td>3.065990</td>\n",
       "      <td>18.737483</td>\n",
       "      <td>23.198945</td>\n",
       "      <td>22.217843</td>\n",
       "      <td>51.869257</td>\n",
       "      <td>0.206167</td>\n",
       "    </tr>\n",
       "    <tr>\n",
       "      <th>min</th>\n",
       "      <td>1.000000</td>\n",
       "      <td>4.000000</td>\n",
       "      <td>5.000000</td>\n",
       "      <td>2.000000</td>\n",
       "      <td>2.000000</td>\n",
       "      <td>0.300000</td>\n",
       "    </tr>\n",
       "    <tr>\n",
       "      <th>25%</th>\n",
       "      <td>5.000000</td>\n",
       "      <td>20.000000</td>\n",
       "      <td>27.000000</td>\n",
       "      <td>11.000000</td>\n",
       "      <td>61.000000</td>\n",
       "      <td>0.600000</td>\n",
       "    </tr>\n",
       "    <tr>\n",
       "      <th>50%</th>\n",
       "      <td>6.000000</td>\n",
       "      <td>29.000000</td>\n",
       "      <td>38.000000</td>\n",
       "      <td>21.000000</td>\n",
       "      <td>87.000000</td>\n",
       "      <td>0.700000</td>\n",
       "    </tr>\n",
       "    <tr>\n",
       "      <th>75%</th>\n",
       "      <td>9.000000</td>\n",
       "      <td>41.500000</td>\n",
       "      <td>56.000000</td>\n",
       "      <td>32.500000</td>\n",
       "      <td>128.000000</td>\n",
       "      <td>0.800000</td>\n",
       "    </tr>\n",
       "    <tr>\n",
       "      <th>max</th>\n",
       "      <td>20.000000</td>\n",
       "      <td>132.000000</td>\n",
       "      <td>143.000000</td>\n",
       "      <td>465.000000</td>\n",
       "      <td>296.000000</td>\n",
       "      <td>1.500000</td>\n",
       "    </tr>\n",
       "  </tbody>\n",
       "</table>\n",
       "</div>"
      ],
      "text/plain": [
       "       SO2监测浓度(μg/m³)  NO2监测浓度(μg/m³)  PM10监测浓度(μg/m³)  PM2.5监测浓度(μg/m³)  \\\n",
       "count      819.000000      819.000000       819.000000        819.000000   \n",
       "mean         7.008547       32.875458        44.073871         24.219170   \n",
       "std          3.065990       18.737483        23.198945         22.217843   \n",
       "min          1.000000        4.000000         5.000000          2.000000   \n",
       "25%          5.000000       20.000000        27.000000         11.000000   \n",
       "50%          6.000000       29.000000        38.000000         21.000000   \n",
       "75%          9.000000       41.500000        56.000000         32.500000   \n",
       "max         20.000000      132.000000       143.000000        465.000000   \n",
       "\n",
       "       O3最大八小时滑动平均监测浓度(μg/m³)  CO监测浓度(mg/m³)  \n",
       "count              819.000000     819.000000  \n",
       "mean                98.542125       0.715568  \n",
       "std                 51.869257       0.206167  \n",
       "min                  2.000000       0.300000  \n",
       "25%                 61.000000       0.600000  \n",
       "50%                 87.000000       0.700000  \n",
       "75%                128.000000       0.800000  \n",
       "max                296.000000       1.500000  "
      ]
     },
     "execution_count": 178,
     "metadata": {},
     "output_type": "execute_result"
    }
   ],
   "source": [
    "data_temp.describe()"
   ]
  },
  {
   "cell_type": "code",
   "execution_count": 179,
   "id": "dc0440cb",
   "metadata": {},
   "outputs": [
    {
     "data": {
      "image/png": "[encoded data removed]",
      "text/plain": [
       "<Figure size 720x360 with 1 Axes>"
      ]
     },
     "metadata": {},
     "output_type": "display_data"
    },
    {
     "name": "stdout",
     "output_type": "stream",
     "text": [
      "\n",
      "\n"
     ]
    }
   ],
   "source": [
    "import numpy as np\n",
    "import pandas as pd\n",
    "import matplotlib.pyplot as plt\n",
    "from sklearn.preprocessing import MinMaxScaler\n",
    "\n",
    "predict_dim = 3 \n",
    "time_step = 10\n",
    "\n",
    "target = data_temp.iloc[:,0].values\n",
    "#plot\n",
    "plt.figure(figsize=(10,5))\n",
    "plt.plot(target)\n",
    "plt.title(\"Data\",fontsize='20') #添加标题\n",
    "plt.show()\n",
    "print('\\n')\n"
   ]
  },
  {
   "cell_type": "markdown",
   "id": "3cc6d6de",
   "metadata": {},
   "source": [
    "# 归一化"
   ]
  },
  {
   "cell_type": "code",
   "execution_count": 180,
   "id": "cab2a754",
   "metadata": {},
   "outputs": [
    {
     "data": {
      "text/plain": [
       "array([[0.21052632, 0.40625   , 0.22463768, 0.06263499, 0.34353741,\n",
       "        0.41666667],\n",
       "       [0.42105263, 0.4609375 , 0.44927536, 0.11015119, 0.69387755,\n",
       "        0.66666667]])"
      ]
     },
     "execution_count": 180,
     "metadata": {},
     "output_type": "execute_result"
    }
   ],
   "source": [
    "#minmaxscaler\n",
    "mm_x= MinMaxScaler()\n",
    "data = mm_x.fit_transform(data_temp)\n",
    "data[:2]"
   ]
  },
  {
   "cell_type": "code",
   "execution_count": 181,
   "id": "e08785e0",
   "metadata": {},
   "outputs": [
    {
     "name": "stdout",
     "output_type": "stream",
     "text": [
      "tensorflow_version 2.2.0 GPU available True\n"
     ]
    },
    {
     "name": "stderr",
     "output_type": "stream",
     "text": [
      "2021-10-17 20:18:45.739000: I tensorflow/core/common_runtime/gpu/gpu_device.cc:1561] Found device 0 with properties: \n",
      "pciBusID: 0000:40:00.0 name: GeForce RTX 2080 Ti computeCapability: 7.5\n",
      "coreClock: 1.545GHz coreCount: 68 deviceMemorySize: 10.76GiB deviceMemoryBandwidth: 573.69GiB/s\n",
      "2021-10-17 20:18:45.739380: I tensorflow/stream_executor/platform/default/dso_loader.cc:44] Successfully opened dynamic library libcudart.so.10.1\n",
      "2021-10-17 20:18:45.739452: I tensorflow/stream_executor/platform/default/dso_loader.cc:44] Successfully opened dynamic library libcublas.so.10\n",
      "2021-10-17 20:18:45.739512: I tensorflow/stream_executor/platform/default/dso_loader.cc:44] Successfully opened dynamic library libcufft.so.10\n",
      "2021-10-17 20:18:45.739563: I tensorflow/stream_executor/platform/default/dso_loader.cc:44] Successfully opened dynamic library libcurand.so.10\n",
      "2021-10-17 20:18:45.739619: I tensorflow/stream_executor/platform/default/dso_loader.cc:44] Successfully opened dynamic library libcusolver.so.10\n",
      "2021-10-17 20:18:45.739669: I tensorflow/stream_executor/platform/default/dso_loader.cc:44] Successfully opened dynamic library libcusparse.so.10\n",
      "2021-10-17 20:18:45.739721: I tensorflow/stream_executor/platform/default/dso_loader.cc:44] Successfully opened dynamic library libcudnn.so.7\n",
      "2021-10-17 20:18:47.406794: I tensorflow/core/common_runtime/gpu/gpu_device.cc:1703] Adding visible gpu devices: 0\n",
      "2021-10-17 20:18:47.406955: I tensorflow/core/common_runtime/gpu/gpu_device.cc:1102] Device interconnect StreamExecutor with strength 1 edge matrix:\n",
      "2021-10-17 20:18:47.406980: I tensorflow/core/common_runtime/gpu/gpu_device.cc:1108]      0 \n",
      "2021-10-17 20:18:47.406999: I tensorflow/core/common_runtime/gpu/gpu_device.cc:1121] 0:   N \n",
      "2021-10-17 20:18:47.416457: I tensorflow/core/common_runtime/gpu/gpu_device.cc:1247] Created TensorFlow device (/device:GPU:0 with 9018 MB memory) -> physical GPU (device: 0, name: GeForce RTX 2080 Ti, pci bus id: 0000:40:00.0, compute capability: 7.5)\n"
     ]
    }
   ],
   "source": [
    "import os\n",
    "import tensorflow as tf\n",
    "os.environ[\"CUDA_VISIBLE_DEVICES\"] = '6'\n",
    "os.environ[\"TF_FORCE_GPU_ALLOW_GROWTH\"] = \"true\"\n",
    "tensorflow_version = tf.__version__\n",
    "gpu_available = tf.test.is_gpu_available()\n",
    "print(\"tensorflow_version\", tensorflow_version, \"GPU available\", gpu_available)"
   ]
  },
  {
   "cell_type": "markdown",
   "id": "1aa29b74",
   "metadata": {},
   "source": [
    "# polution-1-SO2"
   ]
  },
  {
   "cell_type": "code",
   "execution_count": 182,
   "id": "7c401bf2",
   "metadata": {},
   "outputs": [
    {
     "name": "stdout",
     "output_type": "stream",
     "text": [
      "x.shape, y.shape (807, 10, 6) (807, 3)\n",
      "x_train.shape,x_test.shape,y_train.shape,y_test.shape (806, 10, 6) (1, 10, 6) (806, 3) (1, 3)\n"
     ]
    }
   ],
   "source": [
    "target_id = 0\n",
    "\n",
    "x = []\n",
    "y = []\n",
    "for i, _ in enumerate(data):\n",
    "    if len(data[i+time_step: i+time_step+predict_dim])!= predict_dim:\n",
    "        break\n",
    "    x.append(data[i: i+time_step,:])\n",
    "    y.append(data[i+time_step: i+time_step+predict_dim,target_id])\n",
    "x = np.array(x)\n",
    "y = np.array(y)\n",
    "print('x.shape, y.shape', x.shape, y.shape)\n",
    "x_train,x_test,y_train,y_test= x[:-1, :],x[-1: , :],y[:-1, :],y[-1: ,:]\n",
    "print('x_train.shape,x_test.shape,y_train.shape,y_test.shape', x_train.shape,x_test.shape,y_train.shape,y_test.shape)"
   ]
  },
  {
   "cell_type": "code",
   "execution_count": 183,
   "id": "a7113bcb",
   "metadata": {},
   "outputs": [
    {
     "data": {
      "text/plain": [
       "(1, 10, 6)"
      ]
     },
     "execution_count": 183,
     "metadata": {},
     "output_type": "execute_result"
    }
   ],
   "source": [
    "x_last = data[-time_step:]\n",
    "x_last = np.reshape(x_last, (1,x_last.shape[-2],x_last.shape[-1]))\n",
    "x_last.shape"
   ]
  },
  {
   "cell_type": "code",
   "execution_count": 184,
   "id": "b58c89c8",
   "metadata": {
    "scrolled": false
   },
   "outputs": [
    {
     "name": "stdout",
     "output_type": "stream",
     "text": [
      "Model: \"model_30\"\n",
      "_________________________________________________________________\n",
      "Layer (type)                 Output Shape              Param #   \n",
      "=================================================================\n",
      "input_31 (InputLayer)        [(None, 10, 6)]           0         \n",
      "_________________________________________________________________\n",
      "flatten_30 (Flatten)         (None, 60)                0         \n",
      "_________________________________________________________________\n",
      "dense_60 (Dense)             (None, 64)                3904      \n",
      "_________________________________________________________________\n",
      "dense_61 (Dense)             (None, 3)                 195       \n",
      "=================================================================\n",
      "Total params: 4,099\n",
      "Trainable params: 4,099\n",
      "Non-trainable params: 0\n",
      "_________________________________________________________________\n",
      "Epoch 1/50\n",
      "6/6 - 0s - loss: 0.2442 - val_loss: 0.1567\n",
      "Epoch 2/50\n",
      "6/6 - 0s - loss: 0.2014 - val_loss: 0.1333\n",
      "Epoch 3/50\n",
      "6/6 - 0s - loss: 0.1480 - val_loss: 0.1173\n",
      "Epoch 4/50\n",
      "6/6 - 0s - loss: 0.1370 - val_loss: 0.1133\n",
      "Epoch 5/50\n",
      "6/6 - 0s - loss: 0.1217 - val_loss: 0.1022\n",
      "Epoch 6/50\n",
      "6/6 - 0s - loss: 0.1165 - val_loss: 0.1007\n",
      "Epoch 7/50\n",
      "6/6 - 0s - loss: 0.1092 - val_loss: 0.1014\n",
      "Epoch 8/50\n",
      "6/6 - 0s - loss: 0.1055 - val_loss: 0.0943\n",
      "Epoch 9/50\n",
      "6/6 - 0s - loss: 0.1036 - val_loss: 0.0934\n",
      "Epoch 10/50\n",
      "6/6 - 0s - loss: 0.1011 - val_loss: 0.0909\n",
      "Epoch 11/50\n",
      "6/6 - 0s - loss: 0.0993 - val_loss: 0.0899\n",
      "Epoch 12/50\n",
      "6/6 - 0s - loss: 0.0982 - val_loss: 0.0871\n",
      "Epoch 13/50\n",
      "6/6 - 0s - loss: 0.0970 - val_loss: 0.0878\n",
      "Epoch 14/50\n",
      "6/6 - 0s - loss: 0.0964 - val_loss: 0.0856\n",
      "Epoch 15/50\n",
      "6/6 - 0s - loss: 0.0949 - val_loss: 0.0870\n",
      "Epoch 16/50\n",
      "6/6 - 0s - loss: 0.0942 - val_loss: 0.0846\n",
      "Epoch 17/50\n",
      "6/6 - 0s - loss: 0.0934 - val_loss: 0.0850\n",
      "Epoch 18/50\n",
      "6/6 - 0s - loss: 0.0927 - val_loss: 0.0839\n",
      "Epoch 19/50\n",
      "6/6 - 0s - loss: 0.0919 - val_loss: 0.0849\n",
      "Epoch 20/50\n",
      "6/6 - 0s - loss: 0.0912 - val_loss: 0.0831\n",
      "Epoch 21/50\n",
      "6/6 - 0s - loss: 0.0905 - val_loss: 0.0845\n",
      "Epoch 22/50\n",
      "6/6 - 0s - loss: 0.0906 - val_loss: 0.0822\n",
      "Epoch 23/50\n",
      "6/6 - 0s - loss: 0.0896 - val_loss: 0.0846\n",
      "Epoch 24/50\n",
      "6/6 - 0s - loss: 0.0893 - val_loss: 0.0824\n"
     ]
    },
    {
     "data": {
      "image/png": "[encoded data removed]",
      "text/plain": [
       "<Figure size 576x396 with 1 Axes>"
      ]
     },
     "metadata": {},
     "output_type": "display_data"
    }
   ],
   "source": [
    "from tensorflow.keras.models import Model\n",
    "from tensorflow.keras.layers import Input, Reshape, Dense, Embedding, Dropout, LSTM, MaxPooling1D, Lambda, Concatenate, \\\n",
    "    Multiply, RepeatVector, Flatten, Activation, Permute, Conv1D\n",
    "from tensorflow.keras.callbacks import ModelCheckpoint, EarlyStopping\n",
    "import keras.backend as K\n",
    "\n",
    "epoch = 50\n",
    "batch_size = 128\n",
    "best_model_file = 'best_model.h5'\n",
    "\n",
    "def bp_model():\n",
    "    #建立模型\n",
    "    inputs=Input(shape=x_train.shape[-2:])\n",
    "    flat = Flatten()(inputs)\n",
    "    dense = Dense(64, activation='relu')(flat)\n",
    "    outputs = Dense(predict_dim, activation='relu')(dense)\n",
    "    model = Model(inputs=inputs, outputs=outputs)\n",
    "    model.compile('adam','mae')\n",
    "    model.summary()\n",
    "    return model  \n",
    "\n",
    "myModel = bp_model()\n",
    "#save best model\n",
    "es = EarlyStopping(monitor='val_loss', patience=2)\n",
    "cp = ModelCheckpoint(filepath=best_model_file, monitor='val_loss', save_best_only=True)\n",
    "history = myModel.fit(x=x_train,\n",
    "                    y=y_train,\n",
    "                    batch_size=batch_size,\n",
    "                    epochs=epoch,\n",
    "                    verbose=2,callbacks=[es, cp],\n",
    "                    validation_split=0.1)\n",
    "#iter plot\n",
    "loss = history.history['loss']\n",
    "val_loss = history.history['val_loss']\n",
    "epochs_range = range(len(loss))\n",
    "plt.plot(epochs_range, loss, label='Train Loss')\n",
    "plt.plot(epochs_range, val_loss, label='Val Loss')\n",
    "plt.legend(loc='upper right')\n",
    "plt.title('Train and Val Loss')\n",
    "plt.show()\n"
   ]
  },
  {
   "cell_type": "code",
   "execution_count": 185,
   "id": "e1a84a2b",
   "metadata": {},
   "outputs": [
    {
     "data": {
      "text/plain": [
       "(array([[0.29639527, 0.2882939 , 0.2587045 ]], dtype=float32),\n",
       " array([[0.26315789, 0.26315789, 0.26315789]]))"
      ]
     },
     "execution_count": 185,
     "metadata": {},
     "output_type": "execute_result"
    }
   ],
   "source": [
    "myModel.load_weights(best_model_file)\n",
    "y_test_predict = myModel.predict(x_test)\n",
    "polution_1_pred = y_test_predict.copy()\n",
    "polution_1_test = y_test.copy()\n",
    "polution_1_pred, polution_1_test"
   ]
  },
  {
   "cell_type": "code",
   "execution_count": 186,
   "id": "4541d125",
   "metadata": {},
   "outputs": [
    {
     "data": {
      "text/plain": [
       "array([[0.2765041 , 0.2242828 , 0.22520338]], dtype=float32)"
      ]
     },
     "execution_count": 186,
     "metadata": {},
     "output_type": "execute_result"
    }
   ],
   "source": [
    "polution_1_last = myModel.predict(x_last)\n",
    "polution_1_last"
   ]
  },
  {
   "cell_type": "markdown",
   "id": "c43d1f72",
   "metadata": {},
   "source": [
    "# polution-2"
   ]
  },
  {
   "cell_type": "code",
   "execution_count": 187,
   "id": "e29a3a2b",
   "metadata": {},
   "outputs": [
    {
     "name": "stdout",
     "output_type": "stream",
     "text": [
      "x.shape, y.shape (807, 10, 6) (807, 3)\n",
      "x_train.shape,x_test.shape,y_train.shape,y_test.shape (806, 10, 6) (1, 10, 6) (806, 3) (1, 3)\n"
     ]
    }
   ],
   "source": [
    "target_id = 1\n",
    "\n",
    "x = []\n",
    "y = []\n",
    "for i, _ in enumerate(data):\n",
    "    if len(data[i+time_step: i+time_step+predict_dim])!= predict_dim:\n",
    "        break\n",
    "    x.append(data[i: i+time_step,:])\n",
    "    y.append(data[i+time_step: i+time_step+predict_dim,target_id])\n",
    "x = np.array(x)\n",
    "y = np.array(y)\n",
    "print('x.shape, y.shape', x.shape, y.shape)\n",
    "x_train,x_test,y_train,y_test= x[:-1, :],x[-1: , :],y[:-1, :],y[-1: ,:]\n",
    "print('x_train.shape,x_test.shape,y_train.shape,y_test.shape', x_train.shape,x_test.shape,y_train.shape,y_test.shape)"
   ]
  },
  {
   "cell_type": "code",
   "execution_count": 188,
   "id": "409bebe4",
   "metadata": {},
   "outputs": [
    {
     "name": "stdout",
     "output_type": "stream",
     "text": [
      "Model: \"model_31\"\n",
      "_________________________________________________________________\n",
      "Layer (type)                 Output Shape              Param #   \n",
      "=================================================================\n",
      "input_32 (InputLayer)        [(None, 10, 6)]           0         \n",
      "_________________________________________________________________\n",
      "flatten_31 (Flatten)         (None, 60)                0         \n",
      "_________________________________________________________________\n",
      "dense_62 (Dense)             (None, 64)                3904      \n",
      "_________________________________________________________________\n",
      "dense_63 (Dense)             (None, 3)                 195       \n",
      "=================================================================\n",
      "Total params: 4,099\n",
      "Trainable params: 4,099\n",
      "Non-trainable params: 0\n",
      "_________________________________________________________________\n",
      "Epoch 1/50\n",
      "6/6 - 2s - loss: 0.1666 - val_loss: 0.0896\n",
      "Epoch 2/50\n",
      "6/6 - 0s - loss: 0.1305 - val_loss: 0.0934\n",
      "Epoch 3/50\n",
      "6/6 - 0s - loss: 0.1182 - val_loss: 0.0786\n",
      "Epoch 4/50\n",
      "6/6 - 0s - loss: 0.1096 - val_loss: 0.0735\n",
      "Epoch 5/50\n",
      "6/6 - 0s - loss: 0.1019 - val_loss: 0.0755\n",
      "Epoch 6/50\n",
      "6/6 - 0s - loss: 0.0987 - val_loss: 0.0710\n",
      "Epoch 7/50\n",
      "6/6 - 0s - loss: 0.0963 - val_loss: 0.0698\n",
      "Epoch 8/50\n",
      "6/6 - 0s - loss: 0.0940 - val_loss: 0.0720\n",
      "Epoch 9/50\n",
      "6/6 - 0s - loss: 0.0923 - val_loss: 0.0692\n",
      "Epoch 10/50\n",
      "6/6 - 0s - loss: 0.0911 - val_loss: 0.0698\n",
      "Epoch 11/50\n",
      "6/6 - 0s - loss: 0.0898 - val_loss: 0.0704\n"
     ]
    },
    {
     "data": {
      "image/png": "[encoded data removed]",
      "text/plain": [
       "<Figure size 576x396 with 1 Axes>"
      ]
     },
     "metadata": {},
     "output_type": "display_data"
    }
   ],
   "source": [
    "from tensorflow.keras.models import Model\n",
    "from tensorflow.keras.layers import Input, Reshape, Dense, Embedding, Dropout, LSTM, MaxPooling1D, Lambda, Concatenate, \\\n",
    "    Multiply, RepeatVector, Flatten, Activation, Permute, Conv1D\n",
    "from tensorflow.keras.callbacks import ModelCheckpoint, EarlyStopping\n",
    "import keras.backend as K\n",
    "\n",
    "epoch = 50\n",
    "batch_size = 128\n",
    "best_model_file = 'best_model.h5'\n",
    "\n",
    "def bp_model():\n",
    "    #建立模型\n",
    "    inputs=Input(shape=x_train.shape[-2:])\n",
    "    flat = Flatten()(inputs)\n",
    "    dense = Dense(64, activation='relu')(flat)\n",
    "    outputs = Dense(predict_dim, activation='relu')(dense)\n",
    "    model = Model(inputs=inputs, outputs=outputs)\n",
    "    model.compile('adam','mae')\n",
    "    model.summary()\n",
    "    return model  \n",
    "\n",
    "myModel = bp_model()\n",
    "#save best model\n",
    "es = EarlyStopping(monitor='val_loss', patience=2)\n",
    "cp = ModelCheckpoint(filepath=best_model_file, monitor='val_loss', save_best_only=True)\n",
    "history = myModel.fit(x=x_train,\n",
    "                    y=y_train,\n",
    "                    batch_size=batch_size,\n",
    "                    epochs=epoch,\n",
    "                    verbose=2,callbacks=[es, cp],\n",
    "                    validation_split=0.1)\n",
    "#iter plot\n",
    "loss = history.history['loss']\n",
    "val_loss = history.history['val_loss']\n",
    "epochs_range = range(len(loss))\n",
    "plt.plot(epochs_range, loss, label='Train Loss')\n",
    "plt.plot(epochs_range, val_loss, label='Val Loss')\n",
    "plt.legend(loc='upper right')\n",
    "plt.title('Train and Val Loss')\n",
    "plt.show()\n"
   ]
  },
  {
   "cell_type": "code",
   "execution_count": 189,
   "id": "c10c0be3",
   "metadata": {},
   "outputs": [
    {
     "data": {
      "text/plain": [
       "(array([[0.10098641, 0.12540144, 0.1103808 ]], dtype=float32),\n",
       " array([[0.0703125, 0.0546875, 0.0546875]]))"
      ]
     },
     "execution_count": 189,
     "metadata": {},
     "output_type": "execute_result"
    }
   ],
   "source": [
    "myModel.load_weights(best_model_file)\n",
    "y_test_predict = myModel.predict(x_test)\n",
    "polution_2_pred = y_test_predict.copy()\n",
    "polution_2_test = y_test.copy()\n",
    "polution_2_pred, polution_2_test"
   ]
  },
  {
   "cell_type": "code",
   "execution_count": 190,
   "id": "eb3e0154",
   "metadata": {},
   "outputs": [
    {
     "data": {
      "text/plain": [
       "array([[0.06188366, 0.08634532, 0.071267  ]], dtype=float32)"
      ]
     },
     "execution_count": 190,
     "metadata": {},
     "output_type": "execute_result"
    }
   ],
   "source": [
    "polution_2_last = myModel.predict(x_last)\n",
    "polution_2_last"
   ]
  },
  {
   "cell_type": "markdown",
   "id": "226710f1",
   "metadata": {},
   "source": [
    "# polution-3"
   ]
  },
  {
   "cell_type": "code",
   "execution_count": 191,
   "id": "7ca7080d",
   "metadata": {},
   "outputs": [
    {
     "name": "stdout",
     "output_type": "stream",
     "text": [
      "x.shape, y.shape (807, 10, 6) (807, 3)\n",
      "x_train.shape,x_test.shape,y_train.shape,y_test.shape (806, 10, 6) (1, 10, 6) (806, 3) (1, 3)\n",
      "Model: \"model_32\"\n",
      "_________________________________________________________________\n",
      "Layer (type)                 Output Shape              Param #   \n",
      "=================================================================\n",
      "input_33 (InputLayer)        [(None, 10, 6)]           0         \n",
      "_________________________________________________________________\n",
      "flatten_32 (Flatten)         (None, 60)                0         \n",
      "_________________________________________________________________\n",
      "dense_64 (Dense)             (None, 64)                3904      \n",
      "_________________________________________________________________\n",
      "dense_65 (Dense)             (None, 3)                 195       \n",
      "=================================================================\n",
      "Total params: 4,099\n",
      "Trainable params: 4,099\n",
      "Non-trainable params: 0\n",
      "_________________________________________________________________\n",
      "Epoch 1/50\n",
      "6/6 - 0s - loss: 0.2382 - val_loss: 0.1374\n",
      "Epoch 2/50\n",
      "6/6 - 0s - loss: 0.2037 - val_loss: 0.1373\n",
      "Epoch 3/50\n",
      "6/6 - 0s - loss: 0.1925 - val_loss: 0.1301\n",
      "Epoch 4/50\n",
      "6/6 - 0s - loss: 0.1858 - val_loss: 0.1242\n",
      "Epoch 5/50\n",
      "6/6 - 0s - loss: 0.1822 - val_loss: 0.1207\n",
      "Epoch 6/50\n",
      "6/6 - 0s - loss: 0.1791 - val_loss: 0.1188\n",
      "Epoch 7/50\n",
      "6/6 - 0s - loss: 0.1761 - val_loss: 0.1165\n",
      "Epoch 8/50\n",
      "6/6 - 0s - loss: 0.1744 - val_loss: 0.1150\n",
      "Epoch 9/50\n",
      "6/6 - 0s - loss: 0.1728 - val_loss: 0.1141\n",
      "Epoch 10/50\n",
      "6/6 - 0s - loss: 0.1712 - val_loss: 0.1134\n",
      "Epoch 11/50\n",
      "6/6 - 0s - loss: 0.1702 - val_loss: 0.1127\n",
      "Epoch 12/50\n",
      "6/6 - 0s - loss: 0.1688 - val_loss: 0.1127\n",
      "Epoch 13/50\n",
      "6/6 - 0s - loss: 0.1678 - val_loss: 0.1116\n",
      "Epoch 14/50\n",
      "6/6 - 0s - loss: 0.1669 - val_loss: 0.1110\n",
      "Epoch 15/50\n",
      "6/6 - 0s - loss: 0.1660 - val_loss: 0.1105\n",
      "Epoch 16/50\n",
      "6/6 - 0s - loss: 0.1655 - val_loss: 0.1102\n",
      "Epoch 17/50\n",
      "6/6 - 0s - loss: 0.1654 - val_loss: 0.1096\n",
      "Epoch 18/50\n",
      "6/6 - 0s - loss: 0.1647 - val_loss: 0.1096\n",
      "Epoch 19/50\n",
      "6/6 - 0s - loss: 0.1639 - val_loss: 0.1090\n",
      "Epoch 20/50\n",
      "6/6 - 0s - loss: 0.1634 - val_loss: 0.1090\n",
      "Epoch 21/50\n",
      "6/6 - 0s - loss: 0.1631 - val_loss: 0.1081\n",
      "Epoch 22/50\n",
      "6/6 - 0s - loss: 0.1625 - val_loss: 0.1087\n",
      "Epoch 23/50\n",
      "6/6 - 0s - loss: 0.1621 - val_loss: 0.1077\n",
      "Epoch 24/50\n",
      "6/6 - 0s - loss: 0.1625 - val_loss: 0.1088\n",
      "Epoch 25/50\n",
      "6/6 - 0s - loss: 0.1620 - val_loss: 0.1079\n"
     ]
    },
    {
     "data": {
      "image/png": "[encoded data removed]",
      "text/plain": [
       "<Figure size 576x396 with 1 Axes>"
      ]
     },
     "metadata": {},
     "output_type": "display_data"
    },
    {
     "data": {
      "text/plain": [
       "(array([[0.        , 0.13894957, 0.17198749]], dtype=float32),\n",
       " array([[0.10869565, 0.10869565, 0.08695652]]))"
      ]
     },
     "execution_count": 191,
     "metadata": {},
     "output_type": "execute_result"
    }
   ],
   "source": [
    "target_id = 2\n",
    "\n",
    "x = []\n",
    "y = []\n",
    "for i, _ in enumerate(data):\n",
    "    if len(data[i+time_step: i+time_step+predict_dim])!= predict_dim:\n",
    "        break\n",
    "    x.append(data[i: i+time_step,:])\n",
    "    y.append(data[i+time_step: i+time_step+predict_dim,target_id])\n",
    "x = np.array(x)\n",
    "y = np.array(y)\n",
    "print('x.shape, y.shape', x.shape, y.shape)\n",
    "x_train,x_test,y_train,y_test= x[:-1, :],x[-1: , :],y[:-1, :],y[-1: ,:]\n",
    "print('x_train.shape,x_test.shape,y_train.shape,y_test.shape', x_train.shape,x_test.shape,y_train.shape,y_test.shape)\n",
    "\n",
    "from tensorflow.keras.models import Model\n",
    "from tensorflow.keras.layers import Input, Reshape, Dense, Embedding, Dropout, LSTM, MaxPooling1D, Lambda, Concatenate, \\\n",
    "    Multiply, RepeatVector, Flatten, Activation, Permute, Conv1D\n",
    "from tensorflow.keras.callbacks import ModelCheckpoint, EarlyStopping\n",
    "import keras.backend as K\n",
    "\n",
    "epoch = 50\n",
    "batch_size = 128\n",
    "best_model_file = 'best_model.h5'\n",
    "\n",
    "def bp_model():\n",
    "    #建立模型\n",
    "    inputs=Input(shape=x_train.shape[-2:])\n",
    "    flat = Flatten()(inputs)\n",
    "    dense = Dense(64, activation='relu')(flat)\n",
    "    outputs = Dense(predict_dim, activation='relu')(dense)\n",
    "    model = Model(inputs=inputs, outputs=outputs)\n",
    "    model.compile('adam','mae')\n",
    "    model.summary()\n",
    "    return model  \n",
    "\n",
    "myModel = bp_model()\n",
    "#save best model\n",
    "es = EarlyStopping(monitor='val_loss', patience=2)\n",
    "cp = ModelCheckpoint(filepath=best_model_file, monitor='val_loss', save_best_only=True)\n",
    "history = myModel.fit(x=x_train,\n",
    "                    y=y_train,\n",
    "                    batch_size=batch_size,\n",
    "                    epochs=epoch,\n",
    "                    verbose=2,callbacks=[es, cp],\n",
    "                    validation_split=0.1)\n",
    "#iter plot\n",
    "loss = history.history['loss']\n",
    "val_loss = history.history['val_loss']\n",
    "epochs_range = range(len(loss))\n",
    "plt.plot(epochs_range, loss, label='Train Loss')\n",
    "plt.plot(epochs_range, val_loss, label='Val Loss')\n",
    "plt.legend(loc='upper right')\n",
    "plt.title('Train and Val Loss')\n",
    "plt.show()\n",
    "\n",
    "\n",
    "myModel.load_weights(best_model_file)\n",
    "y_test_predict = myModel.predict(x_test)\n",
    "polution_3_pred = y_test_predict.copy()\n",
    "polution_3_test = y_test.copy()\n",
    "polution_3_pred, polution_3_test"
   ]
  },
  {
   "cell_type": "code",
   "execution_count": 192,
   "id": "f15517e6",
   "metadata": {},
   "outputs": [
    {
     "data": {
      "text/plain": [
       "array([[0.        , 0.13693263, 0.15437599]], dtype=float32)"
      ]
     },
     "execution_count": 192,
     "metadata": {},
     "output_type": "execute_result"
    }
   ],
   "source": [
    "polution_3_last = myModel.predict(x_last)\n",
    "polution_3_last"
   ]
  },
  {
   "cell_type": "markdown",
   "id": "facfdad7",
   "metadata": {},
   "source": [
    "# polution-4"
   ]
  },
  {
   "cell_type": "code",
   "execution_count": 193,
   "id": "9d348ca6",
   "metadata": {},
   "outputs": [
    {
     "name": "stdout",
     "output_type": "stream",
     "text": [
      "x.shape, y.shape (807, 10, 6) (807, 3)\n",
      "x_train.shape,x_test.shape,y_train.shape,y_test.shape (806, 10, 6) (1, 10, 6) (806, 3) (1, 3)\n",
      "Model: \"model_33\"\n",
      "_________________________________________________________________\n",
      "Layer (type)                 Output Shape              Param #   \n",
      "=================================================================\n",
      "input_34 (InputLayer)        [(None, 10, 6)]           0         \n",
      "_________________________________________________________________\n",
      "flatten_33 (Flatten)         (None, 60)                0         \n",
      "_________________________________________________________________\n",
      "dense_66 (Dense)             (None, 64)                3904      \n",
      "_________________________________________________________________\n",
      "dense_67 (Dense)             (None, 3)                 195       \n",
      "=================================================================\n",
      "Total params: 4,099\n",
      "Trainable params: 4,099\n",
      "Non-trainable params: 0\n",
      "_________________________________________________________________\n",
      "Epoch 1/50\n",
      "6/6 - 1s - loss: 0.1211 - val_loss: 0.0265\n",
      "Epoch 2/50\n",
      "6/6 - 0s - loss: 0.0508 - val_loss: 0.0239\n",
      "Epoch 3/50\n",
      "6/6 - 0s - loss: 0.0507 - val_loss: 0.0237\n",
      "Epoch 4/50\n",
      "6/6 - 0s - loss: 0.0507 - val_loss: 0.0240\n",
      "Epoch 5/50\n",
      "6/6 - 0s - loss: 0.0507 - val_loss: 0.0238\n"
     ]
    },
    {
     "data": {
      "image/png": "[encoded data removed]",
      "text/plain": [
       "<Figure size 576x396 with 1 Axes>"
      ]
     },
     "metadata": {},
     "output_type": "display_data"
    },
    {
     "data": {
      "text/plain": [
       "(array([[0., 0., 0.]], dtype=float32),\n",
       " array([[0.00647948, 0.00215983, 0.00647948]]))"
      ]
     },
     "execution_count": 193,
     "metadata": {},
     "output_type": "execute_result"
    }
   ],
   "source": [
    "target_id = 3\n",
    "\n",
    "x = []\n",
    "y = []\n",
    "for i, _ in enumerate(data):\n",
    "    if len(data[i+time_step: i+time_step+predict_dim])!= predict_dim:\n",
    "        break\n",
    "    x.append(data[i: i+time_step,:])\n",
    "    y.append(data[i+time_step: i+time_step+predict_dim,target_id])\n",
    "x = np.array(x)\n",
    "y = np.array(y)\n",
    "print('x.shape, y.shape', x.shape, y.shape)\n",
    "x_train,x_test,y_train,y_test= x[:-1, :],x[-1: , :],y[:-1, :],y[-1: ,:]\n",
    "print('x_train.shape,x_test.shape,y_train.shape,y_test.shape', x_train.shape,x_test.shape,y_train.shape,y_test.shape)\n",
    "\n",
    "from tensorflow.keras.models import Model\n",
    "from tensorflow.keras.layers import Input, Reshape, Dense, Embedding, Dropout, LSTM, MaxPooling1D, Lambda, Concatenate, \\\n",
    "    Multiply, RepeatVector, Flatten, Activation, Permute, Conv1D\n",
    "from tensorflow.keras.callbacks import ModelCheckpoint, EarlyStopping\n",
    "import keras.backend as K\n",
    "\n",
    "epoch = 50\n",
    "batch_size = 128\n",
    "best_model_file = 'best_model.h5'\n",
    "\n",
    "def bp_model():\n",
    "    #建立模型\n",
    "    inputs=Input(shape=x_train.shape[-2:])\n",
    "    flat = Flatten()(inputs)\n",
    "    dense = Dense(64, activation='relu')(flat)\n",
    "    outputs = Dense(predict_dim, activation='relu')(dense)\n",
    "    model = Model(inputs=inputs, outputs=outputs)\n",
    "    model.compile('adam','mae')\n",
    "    model.summary()\n",
    "    return model  \n",
    "\n",
    "myModel = bp_model()\n",
    "#save best model\n",
    "es = EarlyStopping(monitor='val_loss', patience=2)\n",
    "cp = ModelCheckpoint(filepath=best_model_file, monitor='val_loss', save_best_only=True)\n",
    "history = myModel.fit(x=x_train,\n",
    "                    y=y_train,\n",
    "                    batch_size=batch_size,\n",
    "                    epochs=epoch,\n",
    "                    verbose=2,callbacks=[es, cp],\n",
    "                    validation_split=0.1)\n",
    "#iter plot\n",
    "loss = history.history['loss']\n",
    "val_loss = history.history['val_loss']\n",
    "epochs_range = range(len(loss))\n",
    "plt.plot(epochs_range, loss, label='Train Loss')\n",
    "plt.plot(epochs_range, val_loss, label='Val Loss')\n",
    "plt.legend(loc='upper right')\n",
    "plt.title('Train and Val Loss')\n",
    "plt.show()\n",
    "\n",
    "\n",
    "myModel.load_weights(best_model_file)\n",
    "y_test_predict = myModel.predict(x_test)\n",
    "polution_4_pred = y_test_predict.copy()\n",
    "polution_4_test = y_test.copy()\n",
    "polution_4_pred, polution_4_test"
   ]
  },
  {
   "cell_type": "code",
   "execution_count": 194,
   "id": "198de6a2",
   "metadata": {},
   "outputs": [
    {
     "data": {
      "text/plain": [
       "array([[0., 0., 0.]], dtype=float32)"
      ]
     },
     "execution_count": 194,
     "metadata": {},
     "output_type": "execute_result"
    }
   ],
   "source": [
    "polution_4_last = myModel.predict(x_last)\n",
    "polution_4_last"
   ]
  },
  {
   "cell_type": "markdown",
   "id": "5defcf19",
   "metadata": {},
   "source": [
    "# polution-5"
   ]
  },
  {
   "cell_type": "code",
   "execution_count": 195,
   "id": "6a35ae65",
   "metadata": {},
   "outputs": [
    {
     "name": "stdout",
     "output_type": "stream",
     "text": [
      "x.shape, y.shape (807, 10, 6) (807, 3)\n",
      "x_train.shape,x_test.shape,y_train.shape,y_test.shape (806, 10, 6) (1, 10, 6) (806, 3) (1, 3)\n",
      "Model: \"model_34\"\n",
      "_________________________________________________________________\n",
      "Layer (type)                 Output Shape              Param #   \n",
      "=================================================================\n",
      "input_35 (InputLayer)        [(None, 10, 6)]           0         \n",
      "_________________________________________________________________\n",
      "flatten_34 (Flatten)         (None, 60)                0         \n",
      "_________________________________________________________________\n",
      "dense_68 (Dense)             (None, 64)                3904      \n",
      "_________________________________________________________________\n",
      "dense_69 (Dense)             (None, 3)                 195       \n",
      "=================================================================\n",
      "Total params: 4,099\n",
      "Trainable params: 4,099\n",
      "Non-trainable params: 0\n",
      "_________________________________________________________________\n",
      "Epoch 1/50\n",
      "6/6 - 0s - loss: 0.2672 - val_loss: 0.1905\n",
      "Epoch 2/50\n",
      "6/6 - 0s - loss: 0.2172 - val_loss: 0.1927\n",
      "Epoch 3/50\n",
      "6/6 - 0s - loss: 0.2157 - val_loss: 0.1826\n",
      "Epoch 4/50\n",
      "6/6 - 0s - loss: 0.2027 - val_loss: 0.1722\n",
      "Epoch 5/50\n",
      "6/6 - 0s - loss: 0.1806 - val_loss: 0.1299\n",
      "Epoch 6/50\n",
      "6/6 - 0s - loss: 0.1480 - val_loss: 0.1207\n",
      "Epoch 7/50\n",
      "6/6 - 0s - loss: 0.1429 - val_loss: 0.1284\n",
      "Epoch 8/50\n",
      "6/6 - 0s - loss: 0.1375 - val_loss: 0.1216\n"
     ]
    },
    {
     "data": {
      "image/png": "[encoded data removed]",
      "text/plain": [
       "<Figure size 576x396 with 1 Axes>"
      ]
     },
     "metadata": {},
     "output_type": "display_data"
    },
    {
     "data": {
      "text/plain": [
       "(array([[0.25299317, 0.22774108, 0.25623396]], dtype=float32),\n",
       " array([[0.26870748, 0.20748299, 0.26870748]]))"
      ]
     },
     "execution_count": 195,
     "metadata": {},
     "output_type": "execute_result"
    }
   ],
   "source": [
    "target_id = 4\n",
    "\n",
    "x = []\n",
    "y = []\n",
    "for i, _ in enumerate(data):\n",
    "    if len(data[i+time_step: i+time_step+predict_dim])!= predict_dim:\n",
    "        break\n",
    "    x.append(data[i: i+time_step,:])\n",
    "    y.append(data[i+time_step: i+time_step+predict_dim,target_id])\n",
    "x = np.array(x)\n",
    "y = np.array(y)\n",
    "print('x.shape, y.shape', x.shape, y.shape)\n",
    "x_train,x_test,y_train,y_test= x[:-1, :],x[-1: , :],y[:-1, :],y[-1: ,:]\n",
    "print('x_train.shape,x_test.shape,y_train.shape,y_test.shape', x_train.shape,x_test.shape,y_train.shape,y_test.shape)\n",
    "\n",
    "from tensorflow.keras.models import Model\n",
    "from tensorflow.keras.layers import Input, Reshape, Dense, Embedding, Dropout, LSTM, MaxPooling1D, Lambda, Concatenate, \\\n",
    "    Multiply, RepeatVector, Flatten, Activation, Permute, Conv1D\n",
    "from tensorflow.keras.callbacks import ModelCheckpoint, EarlyStopping\n",
    "import keras.backend as K\n",
    "\n",
    "epoch = 50\n",
    "batch_size = 128\n",
    "best_model_file = 'best_model.h5'\n",
    "\n",
    "def bp_model():\n",
    "    #建立模型\n",
    "    inputs=Input(shape=x_train.shape[-2:])\n",
    "    flat = Flatten()(inputs)\n",
    "    dense = Dense(64, activation='relu')(flat)\n",
    "    outputs = Dense(predict_dim, activation='relu')(dense)\n",
    "    model = Model(inputs=inputs, outputs=outputs)\n",
    "    model.compile('adam','mae')\n",
    "    model.summary()\n",
    "    return model  \n",
    "\n",
    "myModel = bp_model()\n",
    "#save best model\n",
    "es = EarlyStopping(monitor='val_loss', patience=2)\n",
    "cp = ModelCheckpoint(filepath=best_model_file, monitor='val_loss', save_best_only=True)\n",
    "history = myModel.fit(x=x_train,\n",
    "                    y=y_train,\n",
    "                    batch_size=batch_size,\n",
    "                    epochs=epoch,\n",
    "                    verbose=2,callbacks=[es, cp],\n",
    "                    validation_split=0.1)\n",
    "#iter plot\n",
    "loss = history.history['loss']\n",
    "val_loss = history.history['val_loss']\n",
    "epochs_range = range(len(loss))\n",
    "plt.plot(epochs_range, loss, label='Train Loss')\n",
    "plt.plot(epochs_range, val_loss, label='Val Loss')\n",
    "plt.legend(loc='upper right')\n",
    "plt.title('Train and Val Loss')\n",
    "plt.show()\n",
    "\n",
    "\n",
    "myModel.load_weights(best_model_file)\n",
    "y_test_predict = myModel.predict(x_test)\n",
    "polution_5_pred = y_test_predict.copy()\n",
    "polution_5_test = y_test.copy()\n",
    "polution_5_pred, polution_5_test"
   ]
  },
  {
   "cell_type": "code",
   "execution_count": 196,
   "id": "704b313f",
   "metadata": {},
   "outputs": [
    {
     "data": {
      "text/plain": [
       "array([[0.2588913 , 0.16754492, 0.18216069]], dtype=float32)"
      ]
     },
     "execution_count": 196,
     "metadata": {},
     "output_type": "execute_result"
    }
   ],
   "source": [
    "polution_5_last = myModel.predict(x_last)\n",
    "polution_5_last"
   ]
  },
  {
   "cell_type": "markdown",
   "id": "5aa001ea",
   "metadata": {},
   "source": [
    "# polution-6"
   ]
  },
  {
   "cell_type": "code",
   "execution_count": 197,
   "id": "da7250da",
   "metadata": {},
   "outputs": [
    {
     "name": "stdout",
     "output_type": "stream",
     "text": [
      "x.shape, y.shape (807, 10, 6) (807, 3)\n",
      "x_train.shape,x_test.shape,y_train.shape,y_test.shape (806, 10, 6) (1, 10, 6) (806, 3) (1, 3)\n",
      "Model: \"model_35\"\n",
      "_________________________________________________________________\n",
      "Layer (type)                 Output Shape              Param #   \n",
      "=================================================================\n",
      "input_36 (InputLayer)        [(None, 10, 6)]           0         \n",
      "_________________________________________________________________\n",
      "flatten_35 (Flatten)         (None, 60)                0         \n",
      "_________________________________________________________________\n",
      "dense_70 (Dense)             (None, 64)                3904      \n",
      "_________________________________________________________________\n",
      "dense_71 (Dense)             (None, 3)                 195       \n",
      "=================================================================\n",
      "Total params: 4,099\n",
      "Trainable params: 4,099\n",
      "Non-trainable params: 0\n",
      "_________________________________________________________________\n",
      "Epoch 1/50\n",
      "6/6 - 2s - loss: 0.2399 - val_loss: 0.1622\n",
      "Epoch 2/50\n",
      "6/6 - 0s - loss: 0.2180 - val_loss: 0.1330\n",
      "Epoch 3/50\n",
      "6/6 - 0s - loss: 0.2065 - val_loss: 0.1279\n",
      "Epoch 4/50\n",
      "6/6 - 0s - loss: 0.2027 - val_loss: 0.1314\n",
      "Epoch 5/50\n",
      "6/6 - 0s - loss: 0.1985 - val_loss: 0.1209\n",
      "Epoch 6/50\n",
      "6/6 - 0s - loss: 0.1953 - val_loss: 0.1225\n",
      "Epoch 7/50\n",
      "6/6 - 0s - loss: 0.1921 - val_loss: 0.1193\n",
      "Epoch 8/50\n",
      "6/6 - 0s - loss: 0.1907 - val_loss: 0.1199\n",
      "Epoch 9/50\n",
      "6/6 - 0s - loss: 0.1895 - val_loss: 0.1185\n",
      "Epoch 10/50\n",
      "6/6 - 0s - loss: 0.1886 - val_loss: 0.1204\n",
      "Epoch 11/50\n",
      "6/6 - 0s - loss: 0.1875 - val_loss: 0.1167\n",
      "Epoch 12/50\n",
      "6/6 - 0s - loss: 0.1861 - val_loss: 0.1197\n",
      "Epoch 13/50\n",
      "6/6 - 0s - loss: 0.1856 - val_loss: 0.1158\n",
      "Epoch 14/50\n",
      "6/6 - 0s - loss: 0.1848 - val_loss: 0.1166\n",
      "Epoch 15/50\n",
      "6/6 - 0s - loss: 0.1842 - val_loss: 0.1170\n"
     ]
    },
    {
     "data": {
      "image/png": "[encoded data removed]",
      "text/plain": [
       "<Figure size 576x396 with 1 Axes>"
      ]
     },
     "metadata": {},
     "output_type": "display_data"
    },
    {
     "data": {
      "text/plain": [
       "(array([[0.14054713, 0.08429607, 0.        ]], dtype=float32),\n",
       " array([[0.08333333, 0.        , 0.08333333]]))"
      ]
     },
     "execution_count": 197,
     "metadata": {},
     "output_type": "execute_result"
    }
   ],
   "source": [
    "target_id = 5\n",
    "\n",
    "x = []\n",
    "y = []\n",
    "for i, _ in enumerate(data):\n",
    "    if len(data[i+time_step: i+time_step+predict_dim])!= predict_dim:\n",
    "        break\n",
    "    x.append(data[i: i+time_step,:])\n",
    "    y.append(data[i+time_step: i+time_step+predict_dim,target_id])\n",
    "x = np.array(x)\n",
    "y = np.array(y)\n",
    "print('x.shape, y.shape', x.shape, y.shape)\n",
    "x_train,x_test,y_train,y_test= x[:-1, :],x[-1: , :],y[:-1, :],y[-1: ,:]\n",
    "print('x_train.shape,x_test.shape,y_train.shape,y_test.shape', x_train.shape,x_test.shape,y_train.shape,y_test.shape)\n",
    "\n",
    "from tensorflow.keras.models import Model\n",
    "from tensorflow.keras.layers import Input, Reshape, Dense, Embedding, Dropout, LSTM, MaxPooling1D, Lambda, Concatenate, \\\n",
    "    Multiply, RepeatVector, Flatten, Activation, Permute, Conv1D\n",
    "from tensorflow.keras.callbacks import ModelCheckpoint, EarlyStopping\n",
    "import keras.backend as K\n",
    "\n",
    "epoch = 50\n",
    "batch_size = 128\n",
    "best_model_file = 'best_model.h5'\n",
    "\n",
    "def bp_model():\n",
    "    #建立模型\n",
    "    inputs=Input(shape=x_train.shape[-2:])\n",
    "    flat = Flatten()(inputs)\n",
    "    dense = Dense(64, activation='relu')(flat)\n",
    "    outputs = Dense(predict_dim, activation='relu')(dense)\n",
    "    model = Model(inputs=inputs, outputs=outputs)\n",
    "    model.compile('adam','mae')\n",
    "    model.summary()\n",
    "    return model  \n",
    "\n",
    "myModel = bp_model()\n",
    "#save best model\n",
    "es = EarlyStopping(monitor='val_loss', patience=2)\n",
    "cp = ModelCheckpoint(filepath=best_model_file, monitor='val_loss', save_best_only=True)\n",
    "history = myModel.fit(x=x_train,\n",
    "                    y=y_train,\n",
    "                    batch_size=batch_size,\n",
    "                    epochs=epoch,\n",
    "                    verbose=2,callbacks=[es, cp],\n",
    "                    validation_split=0.1)\n",
    "#iter plot\n",
    "loss = history.history['loss']\n",
    "val_loss = history.history['val_loss']\n",
    "epochs_range = range(len(loss))\n",
    "plt.plot(epochs_range, loss, label='Train Loss')\n",
    "plt.plot(epochs_range, val_loss, label='Val Loss')\n",
    "plt.legend(loc='upper right')\n",
    "plt.title('Train and Val Loss')\n",
    "plt.show()\n",
    "\n",
    "\n",
    "myModel.load_weights(best_model_file)\n",
    "y_test_predict = myModel.predict(x_test)\n",
    "polution_6_pred = y_test_predict.copy()\n",
    "polution_6_test = y_test.copy()\n",
    "polution_6_pred, polution_6_test"
   ]
  },
  {
   "cell_type": "code",
   "execution_count": 198,
   "id": "fee85347",
   "metadata": {},
   "outputs": [
    {
     "data": {
      "text/plain": [
       "array([[0.12340283, 0.0470346 , 0.        ]], dtype=float32)"
      ]
     },
     "execution_count": 198,
     "metadata": {},
     "output_type": "execute_result"
    }
   ],
   "source": [
    "polution_6_last = myModel.predict(x_last)\n",
    "polution_6_last"
   ]
  },
  {
   "cell_type": "markdown",
   "id": "96bb1cd5",
   "metadata": {},
   "source": [
    "# 结合+返归一化"
   ]
  },
  {
   "cell_type": "code",
   "execution_count": 199,
   "id": "630352c6",
   "metadata": {},
   "outputs": [
    {
     "data": {
      "text/plain": [
       "array([[ 6. , 13. , 20. ,  5. , 81. ,  0.4],\n",
       "       [ 6. , 11. , 20. ,  3. , 63. ,  0.3],\n",
       "       [ 6. , 11. , 17. ,  5. , 81. ,  0.4]])"
      ]
     },
     "execution_count": 199,
     "metadata": {},
     "output_type": "execute_result"
    }
   ],
   "source": [
    "all_test = np.array([polution_1_test,polution_2_test,polution_3_test,\n",
    "                     polution_4_test,polution_5_test,polution_6_test ])\n",
    "all_test = all_test[:,0,:].T\n",
    "all_test = mm_x.inverse_transform(all_test)\n",
    "all_test"
   ]
  },
  {
   "cell_type": "code",
   "execution_count": 200,
   "id": "273f1b4d",
   "metadata": {},
   "outputs": [
    {
     "data": {
      "text/plain": [
       "array([[ 6.6315103 , 16.92626   ,  5.        ,  2.        , 76.37999   ,\n",
       "         0.46865654],\n",
       "       [ 6.4775844 , 20.051384  , 24.175041  ,  2.        , 68.95588   ,\n",
       "         0.4011553 ],\n",
       "       [ 5.9153857 , 18.128742  , 28.734274  ,  2.        , 77.33278   ,\n",
       "         0.3       ]], dtype=float32)"
      ]
     },
     "execution_count": 200,
     "metadata": {},
     "output_type": "execute_result"
    }
   ],
   "source": [
    "all_pred = np.array([polution_1_pred,polution_2_pred,polution_3_pred,\n",
    "                     polution_4_pred,polution_5_pred,polution_6_pred ])\n",
    "all_pred = all_pred[:,0,:].T\n",
    "all_pred = mm_x.inverse_transform(all_pred)\n",
    "all_pred"
   ]
  },
  {
   "cell_type": "markdown",
   "id": "bfbb92f4",
   "metadata": {},
   "source": [
    "# 计算AQI和首要污染物---测试集上"
   ]
  },
  {
   "cell_type": "code",
   "execution_count": 201,
   "id": "a32b65fb",
   "metadata": {},
   "outputs": [],
   "source": [
    "import math\n",
    "\n",
    "def compute_AQI(a):\n",
    "    #a=np.array([n_SO2,n_NO2,n_PM10,n_PM25,n_O3,n_CO])\n",
    "    T=np.array([[0,50,150,475,800,1600,2100,2620],[0,40,80,180,280,565,750,940],[0,50,150,250,350,420,500,600],[0,35,75,115,150,250,350,500],[0,100,160,215,265,800,0,0],[0,2,4,14,24,36,48,60]])\n",
    "    I=np.array([0,50,100,150,200,300,400,500])\n",
    "    BP_LO = []\n",
    "    BP_Hi=[]\n",
    "    IAQI_LO=[]\n",
    "    IAQI_Hi=[]\n",
    "    IAQI=np.zeros((1,6))\n",
    "    result=[]\n",
    "    for j in range(6):\n",
    "        for i in range(1,9):\n",
    "            if a[j] <= T[j, i]:\n",
    "                BP_LO.append(T[j, i-1])\n",
    "                BP_Hi.append(T[j, i])\n",
    "                IAQI_LO.append(I[i-1])\n",
    "                IAQI_Hi.append(I[i])\n",
    "                break\n",
    "            else:\n",
    "                continue\n",
    "        IAQI[0, j] = (IAQI_Hi[j] - IAQI_LO[j]) / (BP_Hi[j] - BP_LO[j]) * (a[j] - BP_LO[j]) + IAQI_LO[j]\n",
    "        result.append(math.ceil(IAQI[0, j]))\n",
    "    AQI=np.max(result)\n",
    "    c=np.argmax(result)\n",
    "    name=[\"SO2\", \"NO2\", \"PM10\", \"PM25\", \"O3\", \"CO\"]\n",
    "    if AQI<=50:\n",
    "        polu_name = None\n",
    "#         print(\"AQI为%d\" %(AQI))\n",
    "#         print(\"当天无首要污染物\")\n",
    "    else:\n",
    "        polu_name = name[c]        \n",
    "#         print(\"AQI为%d\" % (AQI))\n",
    "#         print('首要污染物为%s' % (name[c]))\n",
    "    return [AQI, polu_name]\n",
    "    "
   ]
  },
  {
   "cell_type": "code",
   "execution_count": 202,
   "id": "3298d5a4",
   "metadata": {},
   "outputs": [
    {
     "data": {
      "text/plain": [
       "[[39, None], [35, None], [39, None]]"
      ]
     },
     "execution_count": 202,
     "metadata": {},
     "output_type": "execute_result"
    }
   ],
   "source": [
    "AQI_pred = [compute_AQI(inst) for inst in all_pred]\n",
    "AQI_pred"
   ]
  },
  {
   "cell_type": "code",
   "execution_count": 203,
   "id": "37c3f068",
   "metadata": {},
   "outputs": [
    {
     "data": {
      "text/plain": [
       "[[41, None], [32, None], [41, None]]"
      ]
     },
     "execution_count": 203,
     "metadata": {},
     "output_type": "execute_result"
    }
   ],
   "source": [
    "AQI_test = [compute_AQI(inst) for inst in all_test]\n",
    "AQI_test"
   ]
  },
  {
   "cell_type": "markdown",
   "id": "18d42687",
   "metadata": {},
   "source": [
    "# 真实预测"
   ]
  },
  {
   "cell_type": "code",
   "execution_count": 204,
   "id": "1072d73d",
   "metadata": {},
   "outputs": [
    {
     "data": {
      "text/plain": [
       "array([[ 6.253578 , 11.921108 ,  5.       ,  2.       , 78.114044 ,\n",
       "         0.4480834],\n",
       "       [ 5.2613735, 15.052201 , 23.896704 ,  2.       , 51.258205 ,\n",
       "         0.3564415],\n",
       "       [ 5.278864 , 13.122176 , 26.303886 ,  2.       , 55.555244 ,\n",
       "         0.3      ]], dtype=float32)"
      ]
     },
     "execution_count": 204,
     "metadata": {},
     "output_type": "execute_result"
    }
   ],
   "source": [
    "all_last = np.array([polution_1_last,polution_2_last,polution_3_last,\n",
    "                     polution_4_last,polution_5_last,polution_6_last ])\n",
    "all_last = all_last[:,0,:].T\n",
    "all_last = mm_x.inverse_transform(all_last)\n",
    "all_last"
   ]
  },
  {
   "cell_type": "code",
   "execution_count": 205,
   "id": "aa8dafd7",
   "metadata": {},
   "outputs": [
    {
     "data": {
      "text/plain": [
       "[[40, None], [26, None], [28, None]]"
      ]
     },
     "execution_count": 205,
     "metadata": {},
     "output_type": "execute_result"
    }
   ],
   "source": [
    "AQI_pred = [compute_AQI(inst) for inst in all_last]\n",
    "AQI_pred"
   ]
  },
  {
   "cell_type": "code",
   "execution_count": null,
   "id": "b4769332",
   "metadata": {},
   "outputs": [],
   "source": []
  },
  {
   "cell_type": "code",
   "execution_count": null,
   "id": "1ce0a0fc",
   "metadata": {},
   "outputs": [],
   "source": []
  },
  {
   "cell_type": "code",
   "execution_count": null,
   "id": "b69eb024",
   "metadata": {},
   "outputs": [],
   "source": []
  }
 ],
 "metadata": {
  "kernelspec": {
   "display_name": "Python [conda env:tf22]",
   "language": "python",
   "name": "conda-env-tf22-py"
  },
  "language_info": {
   "codemirror_mode": {
    "name": "ipython",
    "version": 3
   },
   "file_extension": ".py",
   "mimetype": "text/x-python",
   "name": "python",
   "nbconvert_exporter": "python",
   "pygments_lexer": "ipython3",
   "version": "3.7.10"
  }
 },
 "nbformat": 4,
 "nbformat_minor": 5
}
